{
 "cells": [
  {
   "cell_type": "code",
   "execution_count": 24,
   "metadata": {},
   "outputs": [
    {
     "name": "stdout",
     "output_type": "stream",
     "text": [
      "Unit test passed!\n"
     ]
    }
   ],
   "source": [
    "\n",
    "# Corpus\n",
    "txt1 = \"Tôi thích môn Toán\"\n",
    "txt2 = \"Tôi thích AI\"\n",
    "txt3 = \"Tôi thích âm nhạc\"\n",
    "\n",
    "corpus = [txt1, txt2, txt3]\n",
    "\n",
    "# Generate vocabularies from corpus\n",
    "\n",
    "def gen_vocab(corpus):\n",
    "    '''Generates a list of vocabularies from the input corpus\n",
    "    \n",
    "    Args:\n",
    "        corpus (list): list of texts/documents in string\n",
    "\n",
    "    Returns:\n",
    "        vocabs (list): list of unique vocabulary from the corpus\n",
    "    '''\n",
    "\n",
    "    # Initialize vocabs to store vocabularies\n",
    "    vocabs = []\n",
    "\n",
    "    # Loop thorough corpus to extract vocabularies\n",
    "    for txt in corpus:\n",
    "        words = txt.split(' ')\n",
    "        \n",
    "        for word in words:\n",
    "            if word not in vocabs:\n",
    "                vocabs.append(word)\n",
    "            \n",
    "    return vocabs\n",
    "\n",
    "\n",
    "def tokenize(text):\n",
    "    '''Tokenize a text into a vector\n",
    "    \n",
    "    Args:\n",
    "        text (string): The text to be tokenized\n",
    "\n",
    "    Returns:\n",
    "        vector (list): A vector to represent the text\n",
    "    '''\n",
    "\n",
    "    # Generate vocabularies from corpus\n",
    "    vocabs = gen_vocab(corpus)\n",
    "\n",
    "    # Initialize the vector with zero\n",
    "    vector = [0 for _ in range(len(vocabs))]\n",
    "\n",
    "    # Loop through each word in text and update the occurrences\n",
    "    for word in text.split(' '):\n",
    "        \n",
    "        # Get the index word in vocabs\n",
    "        index = vocabs.index(word)\n",
    "        \n",
    "        # Update the occurrences\n",
    "        vector[index] += 1\n",
    "    \n",
    "    return vector\n",
    "\n",
    "\n",
    "text = \"Tôi thích AI thích Toán\"\n",
    "\n",
    "assert tokenize(text) == [1, 2, 0, 1, 1, 0, 0]\n",
    "print('Unit test passed!')\n"
   ]
  },
  {
   "cell_type": "code",
   "execution_count": null,
   "metadata": {},
   "outputs": [],
   "source": []
  },
  {
   "cell_type": "code",
   "execution_count": null,
   "metadata": {},
   "outputs": [],
   "source": []
  }
 ],
 "metadata": {
  "kernelspec": {
   "display_name": "base",
   "language": "python",
   "name": "python3"
  },
  "language_info": {
   "codemirror_mode": {
    "name": "ipython",
    "version": 3
   },
   "file_extension": ".py",
   "mimetype": "text/x-python",
   "name": "python",
   "nbconvert_exporter": "python",
   "pygments_lexer": "ipython3",
   "version": "3.11.7"
  }
 },
 "nbformat": 4,
 "nbformat_minor": 2
}
