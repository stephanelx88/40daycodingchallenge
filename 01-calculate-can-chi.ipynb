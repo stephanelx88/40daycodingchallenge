{
 "cells": [
  {
   "cell_type": "code",
   "execution_count": 8,
   "metadata": {},
   "outputs": [
    {
     "name": "stdout",
     "output_type": "stream",
     "text": [
      "Giáp Thìn\n",
      "Quý Mẹo\n",
      "Đinh Sửu\n"
     ]
    }
   ],
   "source": [
    "def compute_can_chi_calendar(year):\n",
    "    '''\n",
    "    This function convers a year to a string reprenting the year in Lunar Can Chi calendar\n",
    "\n",
    "    Args:\n",
    "        year (int): the year user wants to convert to Can Chi\n",
    "\n",
    "    Returns:\n",
    "        str: string representation for Can Chi calendar\n",
    "    '''\n",
    "\n",
    "    CAN = ['Canh', 'Tân', 'Nhâm', 'Quý', 'Giáp', 'Ất', 'Bính', 'Đinh', 'Mậu', 'Kỷ']\n",
    "    CHI = ['Thân', 'Dậu', 'Tuất', 'Hợi', 'Tý', 'Sửu', 'Dần', 'Mẹo', 'Thìn', 'Tỵ', 'Ngọ', 'Mùi']\n",
    "\n",
    "    output = ''\n",
    "    can_index = year % 10\n",
    "    chi_index = year % 12\n",
    "\n",
    "    output = f\"{CAN[can_index]} {CHI[chi_index]}\"\n",
    "    \n",
    "    return output\n",
    "\n",
    "print(compute_can_chi_calendar(2024))\n",
    "print(compute_can_chi_calendar(2023))\n",
    "print(compute_can_chi_calendar(1997))\n",
    "\n",
    "\n"
   ]
  },
  {
   "cell_type": "code",
   "execution_count": null,
   "metadata": {},
   "outputs": [],
   "source": []
  }
 ],
 "metadata": {
  "kernelspec": {
   "display_name": "pytorch",
   "language": "python",
   "name": "python3"
  },
  "language_info": {
   "codemirror_mode": {
    "name": "ipython",
    "version": 3
   },
   "file_extension": ".py",
   "mimetype": "text/x-python",
   "name": "python",
   "nbconvert_exporter": "python",
   "pygments_lexer": "ipython3",
   "version": "3.10.14"
  }
 },
 "nbformat": 4,
 "nbformat_minor": 2
}
