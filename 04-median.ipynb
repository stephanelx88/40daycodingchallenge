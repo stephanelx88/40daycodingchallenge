{
 "cells": [
  {
   "cell_type": "code",
   "execution_count": 4,
   "metadata": {},
   "outputs": [
    {
     "name": "stdout",
     "output_type": "stream",
     "text": [
      "Unit tests passed\n"
     ]
    }
   ],
   "source": [
    "def median(dataset):\n",
    "    '''Returns the median of the dataset\n",
    "    \n",
    "    Args:\n",
    "        dataset (list): The dataset to find the median of\n",
    "\n",
    "    Returns:\n",
    "        median (float): The median of the dataset\n",
    "    '''\n",
    "\n",
    "    sorted_data = sorted(dataset)\n",
    "    length = len(sorted_data)\n",
    "\n",
    "    median = None\n",
    "\n",
    "    if length % 2 == 0:\n",
    "        index = int(length / 2 - 1)\n",
    "\n",
    "        first = sorted_data[index]\n",
    "        second = sorted_data[index + 1]\n",
    "\n",
    "        median = (first + second) / 2\n",
    "    else:\n",
    "        index = int(length / 2)\n",
    "        \n",
    "        median = sorted_data[index]\n",
    "    \n",
    "\n",
    "    return median\n",
    "\n",
    "\n",
    "lst_data1 = [1, 2, 3, 4, 5]\n",
    "lst_data2 = [1, 4, -3, 5, 9, 6]\n",
    "\n",
    "\n",
    "assert median(lst_data1) == 3\n",
    "assert median([1, 4, -3, 5, 9, 6]) == 4.5\n",
    "print('Unit tests passed')"
   ]
  },
  {
   "cell_type": "code",
   "execution_count": 1,
   "metadata": {},
   "outputs": [
    {
     "name": "stdout",
     "output_type": "stream",
     "text": [
      "[1, 2, 3, 4, 5, 6, 7, 8, 9, 10]\n"
     ]
    }
   ],
   "source": [
    "# Question 1: Create a list containing numbers from 1 to 10\n",
    "\n",
    "lst_data = [i for i in range(1, 11)]\n",
    "print(lst_data)"
   ]
  },
  {
   "cell_type": "code",
   "execution_count": 5,
   "metadata": {},
   "outputs": [
    {
     "name": "stdout",
     "output_type": "stream",
     "text": [
      "5.5\n"
     ]
    }
   ],
   "source": [
    "# Question 2: Compute median of lst_data\n",
    "\n",
    "med_value = median(lst_data)\n",
    "print(med_value)\n"
   ]
  },
  {
   "cell_type": "code",
   "execution_count": 8,
   "metadata": {},
   "outputs": [
    {
     "name": "stdout",
     "output_type": "stream",
     "text": [
      "[9, 7, 5, 3, 1]\n"
     ]
    }
   ],
   "source": [
    "# Question 3: Filter lst_data\n",
    "\n",
    "lst_odd_filter = [val for val in lst_data if val % 2 != 0]\n",
    "lst_odd_filter = sorted(lst_odd_filter, reverse=True)\n",
    "\n",
    "\n",
    "print(lst_odd_filter)"
   ]
  },
  {
   "cell_type": "code",
   "execution_count": null,
   "metadata": {},
   "outputs": [],
   "source": []
  }
 ],
 "metadata": {
  "kernelspec": {
   "display_name": "base",
   "language": "python",
   "name": "python3"
  },
  "language_info": {
   "codemirror_mode": {
    "name": "ipython",
    "version": 3
   },
   "file_extension": ".py",
   "mimetype": "text/x-python",
   "name": "python",
   "nbconvert_exporter": "python",
   "pygments_lexer": "ipython3",
   "version": "3.11.7"
  }
 },
 "nbformat": 4,
 "nbformat_minor": 2
}
