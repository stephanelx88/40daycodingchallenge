{
 "cells": [
  {
   "cell_type": "code",
   "execution_count": 9,
   "metadata": {},
   "outputs": [
    {
     "name": "stdout",
     "output_type": "stream",
     "text": [
      "Equation has 2 roots: x1 = -1.0, x2 = -2.0\n",
      "Equation has 1 root: x = -1.0\n",
      "Equation has no root.\n",
      "Equation has any root.\n",
      "Equation has no root.\n",
      "Equation has 1 root, x = 0.0\n"
     ]
    }
   ],
   "source": [
    "# Implement a function to solve quadratic equation\n",
    "import math\n",
    "\n",
    "def quadratic_equation(a, b, c):\n",
    "    \n",
    "    if a == 0:\n",
    "        if b == 0:\n",
    "            if c == 0:\n",
    "                return \"Equation has any root.\"\n",
    "            else:\n",
    "                return \"Equation has no root.\"\n",
    "        else:\n",
    "            x = -c/b\n",
    "            return f\"Equation has 1 root, x = {x}\"\n",
    "    else:\n",
    "        delta = b**2 - 4*a*c\n",
    "\n",
    "        if delta > 0:\n",
    "            x1 = (-b + math.sqrt(delta)) / (2*a)\n",
    "            x2 = (-b - math.sqrt(delta)) / (2*a)\n",
    "            \n",
    "            return f\"Equation has 2 roots: x1 = {x1}, x2 = {x2}\"\n",
    "        elif delta == 0:\n",
    "            x = -b / (2*a)\n",
    "            return f\"Equation has 1 root: x = {x}\"\n",
    "        else:\n",
    "            return \"Equation has no root.\"\n",
    "            \n",
    "\n",
    "print(quadratic_equation(2, 6, 4))\n",
    "print(quadratic_equation(1, 2, 1))\n",
    "print(quadratic_equation(4, 6, 3))\n",
    "print(quadratic_equation(0, 0, 0))\n",
    "print(quadratic_equation(0, 0, 1))\n",
    "print(quadratic_equation(0, 4, 0))\n",
    "\n"
   ]
  },
  {
   "cell_type": "code",
   "execution_count": null,
   "metadata": {},
   "outputs": [],
   "source": []
  }
 ],
 "metadata": {
  "kernelspec": {
   "display_name": "base",
   "language": "python",
   "name": "python3"
  },
  "language_info": {
   "codemirror_mode": {
    "name": "ipython",
    "version": 3
   },
   "file_extension": ".py",
   "mimetype": "text/x-python",
   "name": "python",
   "nbconvert_exporter": "python",
   "pygments_lexer": "ipython3",
   "version": "3.11.7"
  }
 },
 "nbformat": 4,
 "nbformat_minor": 2
}
