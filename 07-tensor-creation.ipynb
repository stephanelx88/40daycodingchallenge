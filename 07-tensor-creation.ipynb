{
 "cells": [
  {
   "cell_type": "code",
   "execution_count": 7,
   "metadata": {},
   "outputs": [
    {
     "name": "stdout",
     "output_type": "stream",
     "text": [
      "[[0. 0. 0.]\n",
      " [0. 0. 0.]]\n",
      "tensor([[0., 0., 0.],\n",
      "        [0., 0., 0.]])\n",
      "tensor([[0., 0., 0.],\n",
      "        [0., 0., 0.]])\n"
     ]
    }
   ],
   "source": [
    "# Theories\n",
    "import numpy as np\n",
    "import torch\n",
    "import tensorflow as tf\n",
    "\n",
    "\n",
    "arr_2d_zeros = np.zeros((2, 3))\n",
    "pt_2d_zeros = torch.zeros((2, 3))\n",
    "tf_2d_zeros = torch.zeros((2, 3))\n",
    "\n",
    "print(arr_2d_zeros)\n",
    "print(pt_2d_zeros)\n",
    "print(tf_2d_zeros)"
   ]
  },
  {
   "cell_type": "code",
   "execution_count": 12,
   "metadata": {},
   "outputs": [
    {
     "name": "stdout",
     "output_type": "stream",
     "text": [
      "[[1. 1. 1.]\n",
      " [1. 1. 1.]]\n",
      "tensor([[1., 1., 1.],\n",
      "        [1., 1., 1.]])\n",
      "tf.Tensor(\n",
      "[[1. 1. 1.]\n",
      " [1. 1. 1.]], shape=(2, 3), dtype=float32)\n"
     ]
    }
   ],
   "source": [
    "arr_2d_ones = np.ones((2, 3))\n",
    "pt_2d_ones = torch.ones((2, 3))\n",
    "tf_2d_ones = tf.ones((2, 3))\n",
    "\n",
    "print(arr_2d_ones)\n",
    "print(pt_2d_ones)\n",
    "print(tf_2d_ones)"
   ]
  },
  {
   "cell_type": "code",
   "execution_count": 16,
   "metadata": {},
   "outputs": [
    {
     "name": "stdout",
     "output_type": "stream",
     "text": [
      "[[9 9 9]\n",
      " [9 9 9]]\n",
      "tensor([[9, 9, 9],\n",
      "        [9, 9, 9]])\n",
      "tf.Tensor(\n",
      "[[9 9 9]\n",
      " [9 9 9]], shape=(2, 3), dtype=int32)\n"
     ]
    }
   ],
   "source": [
    "# Full or fill\n",
    "\n",
    "arr_2d_nines = np.full((2, 3), 9)\n",
    "pt_2d_nines = torch.full((2, 3), 9)\n",
    "tf_2d_nines = tf.fill((2, 3), 9)\n",
    "\n",
    "print(arr_2d_nines)\n",
    "print(pt_2d_nines)\n",
    "print(tf_2d_nines)"
   ]
  },
  {
   "cell_type": "code",
   "execution_count": 1,
   "metadata": {},
   "outputs": [
    {
     "name": "stdout",
     "output_type": "stream",
     "text": [
      "[[0. 0. 0. 0.]\n",
      " [0. 0. 0. 0.]\n",
      " [0. 0. 0. 0.]]\n",
      "tf.Tensor(\n",
      "[[0. 0. 0. 0.]\n",
      " [0. 0. 0. 0.]\n",
      " [0. 0. 0. 0.]], shape=(3, 4), dtype=float32)\n",
      "tensor([[0., 0., 0., 0.],\n",
      "        [0., 0., 0., 0.],\n",
      "        [0., 0., 0., 0.]])\n"
     ]
    }
   ],
   "source": [
    "# Question 1: Implement a function to create a matrix of 3x4 filled with 0 by\n",
    "# using Numpy, Tensorflow and Pytorch\n",
    "\n",
    "import numpy as np\n",
    "import tensorflow as tf\n",
    "import torch\n",
    "\n",
    "def create_matrix_zeros(size=(3,4), lib='np'):\n",
    "    '''\n",
    "    Return a matrix with the size as `size` and datatype as `lib` \n",
    "    \n",
    "    Args:\n",
    "        size (tuple): size of the matrix\n",
    "        lib (str): type of the matrix. lib can be either of 'np', 'pt', 'tf'\n",
    "    '''\n",
    "    matrix =  None\n",
    "    \n",
    "    if lib == 'np':\n",
    "        matrix = np.zeros(size)\n",
    "    elif lib == 'pt':\n",
    "        matrix = torch.zeros(size)\n",
    "    elif lib == 'tf':\n",
    "        matrix = tf.zeros(size)\n",
    "    else:\n",
    "        print('Invalid data type')\n",
    "\n",
    "    return matrix\n",
    "\n",
    "\n",
    "print(create_matrix_zeros())\n",
    "print(create_matrix_zeros((3, 4), 'tf'))\n",
    "print(create_matrix_zeros((3, 4), 'pt'))\n",
    "\n"
   ]
  },
  {
   "cell_type": "code",
   "execution_count": 2,
   "metadata": {},
   "outputs": [
    {
     "name": "stdout",
     "output_type": "stream",
     "text": [
      "[[1. 1. 1. 1.]\n",
      " [1. 1. 1. 1.]\n",
      " [1. 1. 1. 1.]]\n",
      "tf.Tensor(\n",
      "[[1. 1. 1. 1.]\n",
      " [1. 1. 1. 1.]\n",
      " [1. 1. 1. 1.]], shape=(3, 4), dtype=float32)\n",
      "tensor([[1., 1., 1., 1.],\n",
      "        [1., 1., 1., 1.],\n",
      "        [1., 1., 1., 1.]])\n"
     ]
    }
   ],
   "source": [
    "# Question 2: Implement a function to create a matrix of 3x4 filled with 1 by\n",
    "# using Numpy, Tensorflow and Pytorch\n",
    "\n",
    "def create_matrix_ones(size=(3,4), lib='np'):\n",
    "    '''\n",
    "    Return a matrix with the size as `size` and datatype as `lib` \n",
    "    \n",
    "    Args:\n",
    "        size (tuple): size of the matrix\n",
    "        lib (str): type of the matrix. lib can be either of 'np', 'pt', 'tf'\n",
    "    '''\n",
    "    matrix =  None\n",
    "    \n",
    "    if lib == 'np':\n",
    "        matrix = np.ones(size)\n",
    "    elif lib == 'pt':\n",
    "        matrix = torch.ones(size)\n",
    "    elif lib == 'tf':\n",
    "        matrix = tf.ones(size)\n",
    "    else:\n",
    "        print('Invalid data type')\n",
    "\n",
    "    return matrix\n",
    "\n",
    "\n",
    "print(create_matrix_ones())\n",
    "print(create_matrix_ones((3, 4), 'tf'))\n",
    "print(create_matrix_ones((3, 4), 'pt'))\n"
   ]
  },
  {
   "cell_type": "code",
   "execution_count": 17,
   "metadata": {},
   "outputs": [
    {
     "name": "stdout",
     "output_type": "stream",
     "text": [
      "[[5 5 5 5]\n",
      " [5 5 5 5]\n",
      " [5 5 5 5]]\n",
      "tensor([[20, 20, 20, 20, 20, 20, 20, 20, 20],\n",
      "        [20, 20, 20, 20, 20, 20, 20, 20, 20],\n",
      "        [20, 20, 20, 20, 20, 20, 20, 20, 20],\n",
      "        [20, 20, 20, 20, 20, 20, 20, 20, 20]])\n",
      "tf.Tensor(\n",
      "[[20 20 20 20 20 20 20 20 20]\n",
      " [20 20 20 20 20 20 20 20 20]\n",
      " [20 20 20 20 20 20 20 20 20]\n",
      " [20 20 20 20 20 20 20 20 20]], shape=(4, 9), dtype=int32)\n"
     ]
    }
   ],
   "source": [
    "# Question 3: Implement a function to create a matrix of any size (e.g 3x4) filled with any number (e.g 7) by\n",
    "# using Numpy, Tensorflow and Pytorch\n",
    "\n",
    "def create_matrix_with_value(size=(3,4), value=5, lib='np'):\n",
    "    '''\n",
    "    Return a matrix with the size as `size` and datatype as `lib` and fill\n",
    "    with value\n",
    "    \n",
    "    Args:\n",
    "        size (tuple): size of the matrix\n",
    "        lib (str): type of the matrix. lib can be either of 'np', 'pt', 'tf'\n",
    "        value (float or int): value to be filled with\n",
    "    '''\n",
    "\n",
    "    matrix =  None\n",
    "    \n",
    "    if lib == 'np':\n",
    "        matrix = np.full(size, value)\n",
    "    elif lib == 'pt':\n",
    "        matrix = torch.full(size, value)\n",
    "    elif lib == 'tf':\n",
    "        matrix = tf.fill(size, value)\n",
    "    else:\n",
    "        return 'Invalid data type'\n",
    "\n",
    "    return matrix\n",
    "\n",
    "\n",
    "print(create_matrix_with_value())\n",
    "print(create_matrix_with_value((4, 9), 20, 'pt'))\n",
    "print(create_matrix_with_value((4, 9), 20, 'tf'))\n",
    "\n"
   ]
  },
  {
   "cell_type": "code",
   "execution_count": null,
   "metadata": {},
   "outputs": [],
   "source": []
  }
 ],
 "metadata": {
  "kernelspec": {
   "display_name": "base",
   "language": "python",
   "name": "python3"
  },
  "language_info": {
   "codemirror_mode": {
    "name": "ipython",
    "version": 3
   },
   "file_extension": ".py",
   "mimetype": "text/x-python",
   "name": "python",
   "nbconvert_exporter": "python",
   "pygments_lexer": "ipython3",
   "version": "3.11.7"
  }
 },
 "nbformat": 4,
 "nbformat_minor": 2
}
