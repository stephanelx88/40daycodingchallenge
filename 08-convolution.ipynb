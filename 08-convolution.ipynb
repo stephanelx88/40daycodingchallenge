{
 "cells": [
  {
   "cell_type": "code",
   "execution_count": 29,
   "metadata": {},
   "outputs": [
    {
     "name": "stdout",
     "output_type": "stream",
     "text": [
      "[[0. 0.]\n",
      " [0. 0.]]\n",
      "ij= 00\n",
      "ij= 01\n",
      "ij= 10\n",
      "ij= 11\n"
     ]
    },
    {
     "data": {
      "text/plain": [
       "array([[19., 25.],\n",
       "       [37., 43.]])"
      ]
     },
     "metadata": {},
     "output_type": "display_data"
    }
   ],
   "source": [
    "import numpy as np\n",
    "\n",
    "def sum_product(a, b):\n",
    "    '''Computes the sum of product of two matrices a and b (with the same shape)\n",
    "    \n",
    "    Args:\n",
    "        a: matrix a\n",
    "        b: matrix b\n",
    "\n",
    "    Returns:\n",
    "        result: the sum of the product of each elements in\n",
    "                matrix a and b correspondingly.\n",
    "    \n",
    "    '''\n",
    "    total = 0\n",
    "    # Validate the size of the matrices\n",
    "    if a.shape != b.shape:\n",
    "        print('Invalid shape. Please check again.')\n",
    "        return\n",
    "    \n",
    "    rows, cols = a.shape\n",
    "\n",
    "    for i in range(rows):\n",
    "        for j in range(cols):\n",
    "            product = a[i, j] * b[i, j]\n",
    "\n",
    "            total += product\n",
    "    \n",
    "    return total\n",
    "\n",
    "\n",
    "\n",
    "\n",
    "\n",
    "def compute_convo(input_matrix: np.ndarray, kernel: np.ndarray) -> np.ndarray:\n",
    "    '''Computes comvolution of the input_matrix with a kernel\n",
    "    \n",
    "    Args:\n",
    "        input_matrix: the input matrix\n",
    "        kernel: the kernel matrix\n",
    "\n",
    "    Returns:\n",
    "        convo: the computed convolution of the input_matrix\n",
    "    '''\n",
    "\n",
    "    # Get rows and columns of the input matrix\n",
    "    mat_rows, mat_cols = input_matrix.shape\n",
    "    \n",
    "    # Get rows and columns of the kernel\n",
    "    ker_rows, ker_cols = kernel.shape\n",
    "\n",
    "    # Calculate the shape of the output matrix\n",
    "    convo_rows = mat_rows - ker_rows + 1\n",
    "    convo_cols = mat_cols - ker_cols + 1\n",
    "    \n",
    "    # Initialize the convo matrix\n",
    "    convo = np.zeros((convo_rows, convo_cols))\n",
    "    print(convo)\n",
    "\n",
    "    # The kernel traverse over the input_matrix\n",
    "    for i in range(convo_rows):  \n",
    "        for j in range(convo_cols): \n",
    "            print((f\"ij= {i}{j}\"))\n",
    "            sub_mat = input_matrix[i: i + ker_rows, j: j + ker_cols]\n",
    "            \n",
    "            # Compute sum product of sub_mat and kernel\n",
    "            total = sum_product(sub_mat, kernel)\n",
    "\n",
    "            # Update total to the convo matrix\n",
    "            convo[i, j] = total\n",
    "\n",
    "    return convo\n",
    "\n",
    "    \n",
    "\n",
    "input_matrix = np.array([\n",
    "    [0, 1, 2],\n",
    "    [3, 4, 5],\n",
    "    [6, 7, 8]\n",
    "])\n",
    "\n",
    "kernel = np.array([\n",
    "    [0, 1],\n",
    "    [2, 3]\n",
    "])\n",
    "\n",
    "kernel2 = np.array([\n",
    "    [1, 2],\n",
    "    [3, 4]\n",
    "])\n",
    "\n",
    "assert sum_product(kernel, kernel2) == 20\n",
    "display(compute_convo(input_matrix, kernel))\n",
    "\n"
   ]
  },
  {
   "cell_type": "code",
   "execution_count": null,
   "metadata": {},
   "outputs": [],
   "source": []
  },
  {
   "cell_type": "code",
   "execution_count": null,
   "metadata": {},
   "outputs": [],
   "source": []
  }
 ],
 "metadata": {
  "kernelspec": {
   "display_name": "base",
   "language": "python",
   "name": "python3"
  },
  "language_info": {
   "codemirror_mode": {
    "name": "ipython",
    "version": 3
   },
   "file_extension": ".py",
   "mimetype": "text/x-python",
   "name": "python",
   "nbconvert_exporter": "python",
   "pygments_lexer": "ipython3",
   "version": "3.11.7"
  }
 },
 "nbformat": 4,
 "nbformat_minor": 2
}
