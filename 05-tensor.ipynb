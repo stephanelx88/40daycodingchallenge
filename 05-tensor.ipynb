{
 "cells": [
  {
   "cell_type": "code",
   "execution_count": 29,
   "metadata": {},
   "outputs": [
    {
     "name": "stdout",
     "output_type": "stream",
     "text": [
      "(3, 2)\n",
      "int32\n",
      "<class 'numpy.ndarray'>\n"
     ]
    }
   ],
   "source": [
    "# Different dimension of a tensor\n",
    "import numpy as np\n",
    "\n",
    "scalar = 1\n",
    "one_dim = np.array([1, 2, 3])\n",
    "two_dim = np.array([\n",
    "    [1, 2],\n",
    "    [3, 4],\n",
    "    [5, 6]\n",
    "])\n",
    "\n",
    "three_dim = np.array([\n",
    "    [\n",
    "        [1, 2, 3], [3, 5, 6], [7, 8, 9]\n",
    "    ],\n",
    "    [\n",
    "        [10, 11, 12], [13, 14, 15], [16, 17, 18]\n",
    "    ],\n",
    "    [\n",
    "        [19, 20, 21], [22, 23, 24], [25, 26, 27]\n",
    "    ]\n",
    "    \n",
    "])\n",
    "\n",
    "print(two_dim.shape)\n",
    "print(two_dim.dtype)\n",
    "print(type(two_dim))"
   ]
  },
  {
   "cell_type": "code",
   "execution_count": 28,
   "metadata": {},
   "outputs": [
    {
     "name": "stdout",
     "output_type": "stream",
     "text": [
      "(4, 3, 3)\n"
     ]
    }
   ],
   "source": [
    "print(three_dim.shape)"
   ]
  },
  {
   "cell_type": "code",
   "execution_count": 84,
   "metadata": {},
   "outputs": [],
   "source": [
    "\n",
    "\n",
    "def describe(data):\n",
    "    '''Returns the description of the data, including raw data, type, dtype\n",
    "    shape and device of the data\n",
    "\n",
    "    Args:\n",
    "        data (any type): data that user wants to describe\n",
    "\n",
    "    Returns:\n",
    "        description (dict): description of the data\n",
    "    '''\n",
    "\n",
    "    description = None\n",
    "    if isinstance(data, np.ndarray):\n",
    "        description = {\n",
    "            'data': data,\n",
    "            'type': type(data),\n",
    "            'dtype': data.dtype,\n",
    "            'shape': data.shape\n",
    "        }\n",
    "\n",
    "    elif isinstance(data, torch.Tensor) or isinstance(data, tf.Tensor):\n",
    "        description = {\n",
    "            'data': data,\n",
    "            'type': type(data),\n",
    "            'dtype': data.dtype,\n",
    "            'shape': data.shape,\n",
    "            'device': data.device\n",
    "        }\n",
    "    else:\n",
    "        return 'Unkown data type'\n",
    "                                            \n",
    "    return description"
   ]
  },
  {
   "cell_type": "code",
   "execution_count": 85,
   "metadata": {},
   "outputs": [
    {
     "name": "stdout",
     "output_type": "stream",
     "text": [
      "Unkown data type\n",
      "{'data': tensor([ 1,  2,  3,  4,  5,  6,  7,  8,  9, 10]), 'type': <class 'torch.Tensor'>, 'dtype': torch.int64, 'shape': torch.Size([10]), 'device': device(type='cpu')}\n",
      "{'data': tensor([ 1,  2,  3,  4,  5,  6,  7,  8,  9, 10]), 'type': <class 'torch.Tensor'>, 'dtype': torch.int64, 'shape': torch.Size([10]), 'device': device(type='cpu')}\n"
     ]
    }
   ],
   "source": [
    "# Create a Tensorflow tensor and Pytorch tensor from a 1-d list\n",
    "\n",
    "import numpy as np\n",
    "import tensorflow as tf\n",
    "import torch\n",
    "\n",
    "\n",
    "\n",
    "# Raw data in list\n",
    "lst_data = [i for i in range(1, 11)]\n",
    "\n",
    "# Convert to 1d-array from list\n",
    "arr_1d = np.array(lst_data)\n",
    "\n",
    "\n",
    "# Create a Pytorch tensor\n",
    "pt_1d_tensor = torch.tensor(lst_data)\n",
    "\n",
    "# Create a Tensorflow tensor\n",
    "tf_1d_tensor = tf.convert_to_tensor(lst_data)\n",
    "\n",
    "print(describe(lst_data))\n",
    "print(describe(pt_1d_tensor))\n",
    "print(describe(pt_1d_tensor))\n",
    "\n",
    "\n",
    "\n"
   ]
  },
  {
   "cell_type": "code",
   "execution_count": 78,
   "metadata": {},
   "outputs": [
    {
     "name": "stdout",
     "output_type": "stream",
     "text": [
      "{'data': array([[1, 2, 3],\n",
      "       [4, 5, 6],\n",
      "       [7, 8, 9]]), 'type': <class 'numpy.ndarray'>, 'dtype': dtype('int32'), 'shape': (3, 3)}\n",
      "{'data': tensor([[1, 2, 3],\n",
      "        [4, 5, 6],\n",
      "        [7, 8, 9]]), 'type': <class 'torch.Tensor'>, 'dtype': torch.int64, 'shape': torch.Size([3, 3]), 'device': device(type='cpu')}\n",
      "{'data': <tf.Tensor: shape=(3, 3), dtype=int32, numpy=\n",
      "array([[1, 2, 3],\n",
      "       [4, 5, 6],\n",
      "       [7, 8, 9]])>, 'type': <class 'tensorflow.python.framework.ops.EagerTensor'>, 'dtype': tf.int32, 'shape': TensorShape([3, 3]), 'device': '/job:localhost/replica:0/task:0/device:CPU:0'}\n"
     ]
    }
   ],
   "source": [
    "# Create a Tensorflow tensor and Pytorch tensor from a 2-d list\n",
    "\n",
    "list_2d = [\n",
    "    [1, 2, 3],\n",
    "    [4, 5, 6],\n",
    "    [7, 8, 9]\n",
    "]\n",
    "\n",
    "# Convert python list to numpy ndarray\n",
    "np_2d_arr = np.array(list_2d)\n",
    "\n",
    "# Create torch tensor from list_2d\n",
    "torch_2d_tensor = torch.tensor(list_2d)\n",
    "\n",
    "# Create Tensorflow tensor from list_2d\n",
    "tf_2d_tensor = tf.convert_to_tensor(list_2d)\n",
    "\n",
    "print(describe(np_2d_arr))\n",
    "print(describe(torch_2d_tensor))\n",
    "print(describe(tf_2d_tensor))\n"
   ]
  },
  {
   "cell_type": "code",
   "execution_count": 83,
   "metadata": {},
   "outputs": [
    {
     "name": "stdout",
     "output_type": "stream",
     "text": [
      "Help on function describe in module __main__:\n",
      "\n",
      "describe(data)\n",
      "    Return the description of the data, including raw data, type, dtype\n",
      "    shape and device of the data\n",
      "    \n",
      "    Args:\n",
      "        data (any type): data that user wants to describe\n",
      "    \n",
      "    Returns:\n",
      "        description (dict): description of the data\n",
      "\n"
     ]
    }
   ],
   "source": [
    "help(describe)"
   ]
  },
  {
   "cell_type": "code",
   "execution_count": null,
   "metadata": {},
   "outputs": [],
   "source": []
  }
 ],
 "metadata": {
  "kernelspec": {
   "display_name": "base",
   "language": "python",
   "name": "python3"
  },
  "language_info": {
   "codemirror_mode": {
    "name": "ipython",
    "version": 3
   },
   "file_extension": ".py",
   "mimetype": "text/x-python",
   "name": "python",
   "nbconvert_exporter": "python",
   "pygments_lexer": "ipython3",
   "version": "3.11.7"
  }
 },
 "nbformat": 4,
 "nbformat_minor": 2
}
