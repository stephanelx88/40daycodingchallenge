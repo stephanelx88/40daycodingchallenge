{
 "cells": [
  {
   "cell_type": "code",
   "execution_count": 18,
   "metadata": {},
   "outputs": [
    {
     "name": "stdout",
     "output_type": "stream",
     "text": [
      "[[0. 0. 0. 0. 0.]\n",
      " [0. 0. 1. 2. 0.]\n",
      " [0. 3. 4. 5. 0.]\n",
      " [0. 6. 7. 8. 0.]\n",
      " [0. 0. 0. 0. 0.]]\n"
     ]
    }
   ],
   "source": [
    "import numpy as np\n",
    "\n",
    "def padding(matrix):\n",
    "    '''Padding of matrix'''\n",
    "\n",
    "    # Get image shape\n",
    "    rows, cols = matrix.shape\n",
    "    \n",
    "    # Generate the padded matrix\n",
    "    padded_rows, padded_cols = rows + 2, cols + 2\n",
    "    padded_img = np.zeros((padded_rows, padded_cols))\n",
    "    \n",
    "    # Loop through the input matrix and fill in the padded_img\n",
    "    for i in range(rows):\n",
    "        for j in range(cols):\n",
    "            value = matrix[i, j]\n",
    "\n",
    "\n",
    "\n",
    "            # Position of value in the padded_img\n",
    "            x, y = i + 1, j + 1\n",
    "\n",
    "            # Update value to the padded_img\n",
    "            padded_img[x, y] = value\n",
    "\n",
    "    return padded_img\n",
    "\n",
    "\n",
    "\n",
    "input_matrix = np.array([\n",
    "    [0, 1, 2],\n",
    "    [3, 4, 5],\n",
    "    [6, 7, 8]\n",
    "])\n",
    "\n",
    "print(padding(input_matrix))"
   ]
  },
  {
   "cell_type": "code",
   "execution_count": null,
   "metadata": {},
   "outputs": [],
   "source": []
  }
 ],
 "metadata": {
  "kernelspec": {
   "display_name": "base",
   "language": "python",
   "name": "python3"
  },
  "language_info": {
   "codemirror_mode": {
    "name": "ipython",
    "version": 3
   },
   "file_extension": ".py",
   "mimetype": "text/x-python",
   "name": "python",
   "nbconvert_exporter": "python",
   "pygments_lexer": "ipython3",
   "version": "3.11.7"
  }
 },
 "nbformat": 4,
 "nbformat_minor": 2
}
