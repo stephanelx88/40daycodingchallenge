{
 "cells": [
  {
   "cell_type": "code",
   "execution_count": 1,
   "metadata": {},
   "outputs": [
    {
     "name": "stdout",
     "output_type": "stream",
     "text": [
      "[1, 2, 3, 4, 5, 6, 7, 8, 9, 10]\n"
     ]
    }
   ],
   "source": [
    "new_list = [num for num in range(1, 11)]\n",
    "print(new_list)"
   ]
  },
  {
   "cell_type": "code",
   "execution_count": 2,
   "metadata": {},
   "outputs": [
    {
     "name": "stdout",
     "output_type": "stream",
     "text": [
      "[1, 2, 3, 4, 5]\n"
     ]
    }
   ],
   "source": [
    "first_five = new_list[:5]\n",
    "print(first_five)"
   ]
  },
  {
   "cell_type": "code",
   "execution_count": 3,
   "metadata": {},
   "outputs": [
    {
     "name": "stdout",
     "output_type": "stream",
     "text": [
      "1\n",
      "3\n",
      "5\n",
      "7\n",
      "9\n"
     ]
    }
   ],
   "source": [
    "for num in new_list:\n",
    "    if num % 2 != 0:\n",
    "        print(num)"
   ]
  },
  {
   "cell_type": "code",
   "execution_count": 5,
   "metadata": {},
   "outputs": [
    {
     "name": "stdout",
     "output_type": "stream",
     "text": [
      "55\n"
     ]
    }
   ],
   "source": [
    "def summation(numbers):\n",
    "    sum = 0\n",
    "\n",
    "    for num in numbers:\n",
    "        sum += num\n",
    "\n",
    "    return sum\n",
    "\n",
    "print(summation(new_list))"
   ]
  },
  {
   "cell_type": "code",
   "execution_count": 8,
   "metadata": {},
   "outputs": [
    {
     "data": {
      "text/plain": [
       "'Do something else'"
      ]
     },
     "execution_count": 8,
     "metadata": {},
     "output_type": "execute_result"
    }
   ],
   "source": [
    "todo = {\n",
    "    '5 AM': 'Wake up',\n",
    "    '6 AM': 'Yoga',\n",
    "    '7 AM': 'Work'\n",
    "}\n",
    "\n",
    "time = input('Input time:')\n",
    "todo.get(time, 'Do something else')"
   ]
  },
  {
   "cell_type": "code",
   "execution_count": 9,
   "metadata": {},
   "outputs": [
    {
     "name": "stdout",
     "output_type": "stream",
     "text": [
      "Do something else\n"
     ]
    }
   ],
   "source": [
    "time = input('Input time: ')\n",
    "match time:\n",
    "    case '5 AM':\n",
    "        print('Wake up')\n",
    "    case '6 AM':\n",
    "        print('Yoga')\n",
    "    case '7 AM':\n",
    "        print('Work')\n",
    "    case _:\n",
    "        print('Do something else')"
   ]
  },
  {
   "cell_type": "code",
   "execution_count": 24,
   "metadata": {},
   "outputs": [
    {
     "name": "stdout",
     "output_type": "stream",
     "text": [
      "[2, 4, 8, 10]\n"
     ]
    },
    {
     "data": {
      "text/plain": [
       "[0, 0, 0, 0, 7, 0, 0, 1, 0, 3]"
      ]
     },
     "execution_count": 24,
     "metadata": {},
     "output_type": "execute_result"
    }
   ],
   "source": [
    "evens = [i for i in range(1, 13) if i%2 == 0]\n",
    "\n",
    "not_divisible_by_three = [num for num in evens if num%3 != 0]\n",
    "print(not_divisible_by_three)\n",
    "not_divisible_by_three = not_divisible_by_three + [1, 2, 3]\n",
    "not_divisible_by_three = not_divisible_by_three[:3] + [6, 7, 8] + not_divisible_by_three[3:]\n",
    "\n",
    "final_lst = [0 if (num % 2 == 0 or num % 5 == 0) else num for num in not_divisible_by_three]\n",
    "final_lst"
   ]
  },
  {
   "cell_type": "code",
   "execution_count": 36,
   "metadata": {},
   "outputs": [
    {
     "name": "stdout",
     "output_type": "stream",
     "text": [
      "milk has been found at row 1 and column 3.\n",
      "apple has been found at row 2 and column 2.\n",
      "carrot has been found at row 3 and column 1.\n",
      "milk has been found at row 1 and column 3.\n",
      "apple has been found at row 2 and column 2.\n",
      "carrot has been found at row 3 and column 1.\n"
     ]
    }
   ],
   "source": [
    "food_lst = [\n",
    "    ['butter', 'pizza', 'milk'],\n",
    "    ['saussage', 'apple', 'ice cream'],\n",
    "    ['carrot', 'strawberry cake', 'cupcake']\n",
    "]\n",
    "\n",
    "search_items = ['carrot', 'apple', 'milk']\n",
    "\n",
    "\n",
    "for i in range(len(food_lst)):\n",
    "    for j in range(len(food_lst[i])):\n",
    "        item = food_lst[i][j]\n",
    "\n",
    "        if item in search_items:\n",
    "            print(f\"{item} has been found at \"\n",
    "                  f\"row {i+1} and column {j+1}.\")\n",
    "            \n",
    "\n",
    "for i, row in enumerate(food_lst, start=1):\n",
    "    for j, item in enumerate(row, start=1):\n",
    "        if item in search_items:\n",
    "            print(f\"{item} has been found at row {i} and column {j}.\")"
   ]
  },
  {
   "cell_type": "code",
   "execution_count": null,
   "metadata": {},
   "outputs": [],
   "source": []
  }
 ],
 "metadata": {
  "kernelspec": {
   "display_name": "base",
   "language": "python",
   "name": "python3"
  },
  "language_info": {
   "codemirror_mode": {
    "name": "ipython",
    "version": 3
   },
   "file_extension": ".py",
   "mimetype": "text/x-python",
   "name": "python",
   "nbconvert_exporter": "python",
   "pygments_lexer": "ipython3",
   "version": "3.11.7"
  }
 },
 "nbformat": 4,
 "nbformat_minor": 2
}
